{
 "cells": [
  {
   "cell_type": "code",
   "execution_count": 2,
   "id": "ee1e3fcb",
   "metadata": {},
   "outputs": [
    {
     "data": {
      "text/html": [
       "<style>.container { width:100% !important; }</style>"
      ],
      "text/plain": [
       "<IPython.core.display.HTML object>"
      ]
     },
     "metadata": {},
     "output_type": "display_data"
    }
   ],
   "source": [
    "# changing the width of cells\n",
    "\n",
    "from IPython.display import display, HTML\n",
    "display(HTML(\"<style>.container { width:100% !important; }</style>\"))"
   ]
  },
  {
   "cell_type": "code",
   "execution_count": 116,
   "id": "95e83f68",
   "metadata": {},
   "outputs": [],
   "source": [
    "# import packages\n",
    "\n",
    "import pandas as pd\n",
    "import numpy as np\n",
    "from matplotlib import pyplot as plt\n",
    "import os\n",
    "from pathlib import Path\n",
    "import pickle\n",
    "import requests\n",
    "\n",
    "from sklearn.model_selection import train_test_split\n",
    "from sklearn.linear_model import LinearRegression\n",
    "from sklearn import metrics"
   ]
  },
  {
   "cell_type": "code",
   "execution_count": 138,
   "id": "c6257c31",
   "metadata": {},
   "outputs": [],
   "source": [
    "class advanced_exercise:\n",
    "    \n",
    "    def __init__(self, data_path, fig_path, model_path):\n",
    "        \"\"\"defines variables\n",
    "        :param data_path: path to data\n",
    "        :param fig_path: path to store figures\n",
    "        :param model_path: path to store model\"\"\"\n",
    "        self.data_path = data_path\n",
    "        self.fig_path = fig_path\n",
    "        self.model_path = model_path\n",
    "        \n",
    "    def __main__(self) -> np.float64:\n",
    "        \"\"\"reads in data, creates train and test sets. Then defines model, uses it to \n",
    "        predict sales using advertising costs across all parameters\n",
    "        :returns: model performance score\"\"\"\n",
    "        \n",
    "        data = pd.read_csv(self.data_path, quotechar=\",\").rename(columns={'\"': '\"', '\"\"TV\"\"':\"tv_advertising_costs\", '\"\"Radio\"\"':\"radio_advertising_costs\", '\"\"Newspaper\"\"': \"newspaper_advertising_costs\", '\"\"Sales\"\"\"':\"sales\"}) #\n",
    "        data.drop(data.columns[0], axis=1, inplace=True) # rename features, drop dangling column \n",
    "        \n",
    "        X = data.drop(\"sales\", axis=1)\n",
    "        y = data.sales\n",
    "        \n",
    "        X_train, X_test, y_train, y_test = train_test_split(X, y, test_size = 0.2) # create train-test sets\n",
    "        regr = LinearRegression()\n",
    "          \n",
    "        # training model and predicting on test data\n",
    "        regr.fit(X_train, y_train)\n",
    "        y_pred = regr.predict(X_test)\n",
    "        \n",
    "        # plotting and saving figure\n",
    "        fig = plt.figure()\n",
    "        plt.xlabel(\"Test values of sales\")\n",
    "        plt.ylabel(\"Predicted values of sales\")\n",
    "        plt.title(\"Predicted vs test sales values of simple linear regr. model\")\n",
    "        plt.scatter(y_test, y_pred)\n",
    "        plt.savefig(self.fig_path)\n",
    "        \n",
    "        # saving model \n",
    "        pickle.dump(regr, open(self.model_path, \"wb\"))\n",
    "\n",
    "        return round(metrics.r2_score(y_test, y_pred), 2) # return performance score "
   ]
  },
  {
   "cell_type": "code",
   "execution_count": null,
   "id": "80d01f4c",
   "metadata": {},
   "outputs": [],
   "source": []
  }
 ],
 "metadata": {
  "kernelspec": {
   "display_name": "Python 3 (ipykernel)",
   "language": "python",
   "name": "python3"
  },
  "language_info": {
   "codemirror_mode": {
    "name": "ipython",
    "version": 3
   },
   "file_extension": ".py",
   "mimetype": "text/x-python",
   "name": "python",
   "nbconvert_exporter": "python",
   "pygments_lexer": "ipython3",
   "version": "3.9.12"
  }
 },
 "nbformat": 4,
 "nbformat_minor": 5
}
